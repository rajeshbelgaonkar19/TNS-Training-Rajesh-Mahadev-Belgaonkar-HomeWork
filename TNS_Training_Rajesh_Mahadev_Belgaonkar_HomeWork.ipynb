{
  "nbformat": 4,
  "nbformat_minor": 0,
  "metadata": {
    "colab": {
      "provenance": []
    },
    "kernelspec": {
      "name": "python3",
      "display_name": "Python 3"
    },
    "language_info": {
      "name": "python"
    }
  },
  "cells": [
    {
      "cell_type": "markdown",
      "source": [
        "**DAY 1 HOMEWORK (Python Basics: Variables, Input/Output, Operators)**"
      ],
      "metadata": {
        "id": "cKcdGncucEgO"
      }
    },
    {
      "cell_type": "markdown",
      "source": [
        "Write a program that takes the radius as input and calculates the area and\n",
        "circumference of a circle."
      ],
      "metadata": {
        "id": "pATLxAt_cLz4"
      }
    },
    {
      "cell_type": "code",
      "source": [
        "radius = float(input(\"Enter the radius of the circle: \"))\n",
        "area = 3.14159 * (radius ** 2)\n",
        "circumference = 2 * 3.14159 * radius\n",
        "print(\"Area of the circle:\", area)\n",
        "print(\"Circumference of the circle:\", circumference)"
      ],
      "metadata": {
        "colab": {
          "base_uri": "https://localhost:8080/"
        },
        "id": "j77j-Ss7cKYH",
        "outputId": "bca59dd0-7f6e-483b-c486-e638e9f351d9"
      },
      "execution_count": 1,
      "outputs": [
        {
          "output_type": "stream",
          "name": "stdout",
          "text": [
            "Enter the radius of the circle: 5\n",
            "Area of the circle: 78.53975\n",
            "Circumference of the circle: 31.4159\n"
          ]
        }
      ]
    },
    {
      "cell_type": "markdown",
      "source": [
        "Write a program to check if a number is divisible by both 3 and 5."
      ],
      "metadata": {
        "id": "Q7N-jQsLco9x"
      }
    },
    {
      "cell_type": "code",
      "source": [
        "num = int(input(\"Enter a number: \"))\n",
        "if num % 3 == 0 and num % 5 == 0:\n",
        "    print(num, \"is divisible by both 3 and 5\")\n",
        "else:\n",
        "    print(num, \"is NOT divisible by both 3 and 5\")"
      ],
      "metadata": {
        "colab": {
          "base_uri": "https://localhost:8080/"
        },
        "id": "8-BWut9Pcq1x",
        "outputId": "2a2d7ea7-3506-4b84-e393-56e5b5f68cdb"
      },
      "execution_count": 2,
      "outputs": [
        {
          "output_type": "stream",
          "name": "stdout",
          "text": [
            "Enter a number: 15\n",
            "15 is divisible by both 3 and 5\n"
          ]
        }
      ]
    },
    {
      "cell_type": "markdown",
      "source": [
        "Write a program that takes a 4-digit number from the user and prints the sum of its digits."
      ],
      "metadata": {
        "id": "Pcxdmw_5c4O2"
      }
    },
    {
      "cell_type": "code",
      "source": [
        "num = input(\"Enter a 4-digit number: \")\n",
        "digit_sum = 0\n",
        "for digit in num:\n",
        "    digit_sum += int(digit)\n",
        "print(\"The sum of digits is:\", digit_sum)"
      ],
      "metadata": {
        "colab": {
          "base_uri": "https://localhost:8080/"
        },
        "id": "HWMZsemAc8rS",
        "outputId": "3a93b264-5c1f-41f5-d5c9-045fe4588a0d"
      },
      "execution_count": 3,
      "outputs": [
        {
          "output_type": "stream",
          "name": "stdout",
          "text": [
            "Enter a 4-digit number: 1234\n",
            "The sum of digits is: 10\n"
          ]
        }
      ]
    },
    {
      "cell_type": "markdown",
      "source": [
        "**DAY 2 HOMEWORK (Control Flow: if-else, loops)**"
      ],
      "metadata": {
        "id": "qe-B7LVMdoqr"
      }
    },
    {
      "cell_type": "markdown",
      "source": [
        "Write a program to print the factorial of a number using a for loop."
      ],
      "metadata": {
        "id": "CaV_nE3JhAXe"
      }
    },
    {
      "cell_type": "code",
      "source": [
        "num = int(input(\"Enter a number: \"))\n",
        "factorial = 1\n",
        "for i in range(1, num + 1):\n",
        "    factorial *= i\n",
        "print(\"Factorial of\", num, \"is:\", factorial)"
      ],
      "metadata": {
        "colab": {
          "base_uri": "https://localhost:8080/"
        },
        "id": "w0lkEykWdxWf",
        "outputId": "c5e3cbd0-af7a-4bad-f1fc-cdc144095232"
      },
      "execution_count": 4,
      "outputs": [
        {
          "output_type": "stream",
          "name": "stdout",
          "text": [
            "Enter a number: 10\n",
            "Factorial of 10 is: 3628800\n"
          ]
        }
      ]
    },
    {
      "cell_type": "markdown",
      "source": [
        "Write a program that prints all numbers from 1 to 100 that are divisible by 7 but not a\n",
        "multiple of 5."
      ],
      "metadata": {
        "id": "IRzMR0_Lijs8"
      }
    },
    {
      "cell_type": "code",
      "source": [
        "for num in range(1, 101):  # Loop from 1 to 100\n",
        "    if num % 7 == 0 and num % 5 != 0:\n",
        "        print(num)"
      ],
      "metadata": {
        "colab": {
          "base_uri": "https://localhost:8080/"
        },
        "id": "5_elPWz1ik-o",
        "outputId": "bd737554-f7be-4975-d880-90ed8bb69fdf"
      },
      "execution_count": 5,
      "outputs": [
        {
          "output_type": "stream",
          "name": "stdout",
          "text": [
            "7\n",
            "14\n",
            "21\n",
            "28\n",
            "42\n",
            "49\n",
            "56\n",
            "63\n",
            "77\n",
            "84\n",
            "91\n",
            "98\n"
          ]
        }
      ]
    },
    {
      "cell_type": "markdown",
      "source": [
        "Write a program that takes a number and prints whether it is a palindrome or not."
      ],
      "metadata": {
        "id": "QoMMl32FjK5o"
      }
    },
    {
      "cell_type": "code",
      "source": [
        "num = input(\"Enter a number: \")\n",
        "reverse_num = num[::-1]\n",
        "if num == reverse_num:\n",
        "    print(num, \"is a Palindrome\")\n",
        "else:\n",
        "    print(num, \"is NOT a Palindrome\")"
      ],
      "metadata": {
        "colab": {
          "base_uri": "https://localhost:8080/"
        },
        "id": "nWXH8ZRijMDZ",
        "outputId": "71105cf5-a325-4b79-f7bd-68dcd6829bb5"
      },
      "execution_count": 6,
      "outputs": [
        {
          "output_type": "stream",
          "name": "stdout",
          "text": [
            "Enter a number: 123\n",
            "123 is NOT a Palindrome\n"
          ]
        }
      ]
    },
    {
      "cell_type": "markdown",
      "source": [
        "**DAY 3 HOMEWORK (Functions and String Handling)**"
      ],
      "metadata": {
        "id": "GqBDBWyyj2Iw"
      }
    },
    {
      "cell_type": "markdown",
      "source": [
        "Write a function to check whether a given string is a pangram (contains all letters of the\n",
        "alphabet)."
      ],
      "metadata": {
        "id": "duBdjxWPkFn1"
      }
    },
    {
      "cell_type": "code",
      "source": [
        "def is_pangram(sentence):\n",
        "    sentence = sentence.lower()\n",
        "    alphabet = set(\"abcdefghijklmnopqrstuvwxyz\")\n",
        "    sentence_set = set(sentence)\n",
        "    return alphabet.issubset(sentence_set)\n",
        "text = input(\"Enter a sentence: \")\n",
        "if is_pangram(text):\n",
        "    print(\"The given sentence is a Pangram.\")\n",
        "else:\n",
        "    print(\"The given sentence is NOT a Pangram.\")"
      ],
      "metadata": {
        "colab": {
          "base_uri": "https://localhost:8080/"
        },
        "id": "L3bf1IjDkBCK",
        "outputId": "c9cd2526-8ab4-4121-9255-c20624636b33"
      },
      "execution_count": 7,
      "outputs": [
        {
          "output_type": "stream",
          "name": "stdout",
          "text": [
            "Enter a sentence: The quick brown fox jumps over a lazy dog\n",
            "The given sentence is a Pangram.\n"
          ]
        }
      ]
    },
    {
      "cell_type": "markdown",
      "source": [
        "Write a function that takes a sentence and returns the word with the maximum length."
      ],
      "metadata": {
        "id": "yl-ucVsnlI4v"
      }
    },
    {
      "cell_type": "code",
      "source": [
        "def longest_word(sentence):\n",
        "    words = sentence.split()\n",
        "    max_word = words[0]\n",
        "    for word in words:\n",
        "        if len(word) > len(max_word):\n",
        "            max_word = word\n",
        "    return max_word\n",
        "text = input(\"Enter a sentence: \")\n",
        "print(\"The longest word is:\", longest_word(text))"
      ],
      "metadata": {
        "colab": {
          "base_uri": "https://localhost:8080/"
        },
        "id": "PEwqU2vGlJ6o",
        "outputId": "fca0c48c-5a1d-48f2-fc2a-8cf82848c4c9"
      },
      "execution_count": 8,
      "outputs": [
        {
          "output_type": "stream",
          "name": "stdout",
          "text": [
            "Enter a sentence: Python is amazing\n",
            "The longest word is: amazing\n"
          ]
        }
      ]
    },
    {
      "cell_type": "markdown",
      "source": [
        "Write a function to count the number of uppercase and lowercase characters in a string"
      ],
      "metadata": {
        "id": "zGjV8yjIl6nG"
      }
    },
    {
      "cell_type": "code",
      "source": [
        "def count_case(sentence):\n",
        "    upper_count = 0\n",
        "    lower_count = 0\n",
        "    for char in sentence:\n",
        "        if char.isupper():\n",
        "            upper_count += 1\n",
        "        elif char.islower():\n",
        "            lower_count += 1\n",
        "    return upper_count, lower_count\n",
        "text = input(\"Enter a string: \")\n",
        "upper, lower = count_case(text)\n",
        "print(\"Uppercase letters:\", upper)\n",
        "print(\"Lowercase letters:\", lower)"
      ],
      "metadata": {
        "colab": {
          "base_uri": "https://localhost:8080/"
        },
        "id": "ZfWVJzAMl7Cl",
        "outputId": "9473e9b2-6e87-4ba9-e4a6-ba2f304e0ff4"
      },
      "execution_count": 9,
      "outputs": [
        {
          "output_type": "stream",
          "name": "stdout",
          "text": [
            "Enter a string: Hello World\n",
            "Uppercase letters: 2\n",
            "Lowercase letters: 8\n"
          ]
        }
      ]
    },
    {
      "cell_type": "markdown",
      "source": [
        "**DAY 4 HOMEWORK (Lists )**"
      ],
      "metadata": {
        "id": "gMPFJdB4mUXQ"
      }
    },
    {
      "cell_type": "markdown",
      "source": [
        "Write a program to find the difference between the maximum and minimum elements in\n",
        "a list."
      ],
      "metadata": {
        "id": "RF__Vfs6meQ-"
      }
    },
    {
      "cell_type": "code",
      "source": [
        "numbers = list(map(int, input(\"Enter numbers separated by spaces: \").split()))\n",
        "maximum = max(numbers)\n",
        "minimum = min(numbers)\n",
        "difference = maximum - minimum\n",
        "print(\"Maximum number:\", maximum)\n",
        "print(\"Minimum number:\", minimum)\n",
        "print(\"Difference between max and min:\", difference)"
      ],
      "metadata": {
        "colab": {
          "base_uri": "https://localhost:8080/"
        },
        "id": "IcnGFWgembPj",
        "outputId": "c13cadfc-8c02-4a53-f02d-265308bf5039"
      },
      "execution_count": 10,
      "outputs": [
        {
          "output_type": "stream",
          "name": "stdout",
          "text": [
            "Enter numbers separated by spaces: 5 2 9 1 7\n",
            "Maximum number: 9\n",
            "Minimum number: 1\n",
            "Difference between max and min: 8\n"
          ]
        }
      ]
    },
    {
      "cell_type": "markdown",
      "source": [
        "Write a program to remove all elements at odd indices from a list."
      ],
      "metadata": {
        "id": "ERrDb6chnC4-"
      }
    },
    {
      "cell_type": "code",
      "source": [
        "numbers = list(map(int, input(\"Enter numbers separated by spaces: \").split()))\n",
        "result = [numbers[i] for i in range(len(numbers)) if i % 2 == 0]\n",
        "print(\"Original list:\", numbers)\n",
        "print(\"List after removing odd indices:\", result)"
      ],
      "metadata": {
        "colab": {
          "base_uri": "https://localhost:8080/"
        },
        "id": "IGICaPZKnJji",
        "outputId": "a3bd5300-1236-47ec-9615-7cfbb1f3c503"
      },
      "execution_count": 11,
      "outputs": [
        {
          "output_type": "stream",
          "name": "stdout",
          "text": [
            "Enter numbers separated by spaces: 10 20 30 40 50 60\n",
            "Original list: [10, 20, 30, 40, 50, 60]\n",
            "List after removing odd indices: [10, 30, 50]\n"
          ]
        }
      ]
    },
    {
      "cell_type": "markdown",
      "source": [
        "Write a program that takes a list of integers and prints only the elements that appear\n",
        "exactly once."
      ],
      "metadata": {
        "id": "HjdnaCOi8z62"
      }
    },
    {
      "cell_type": "code",
      "source": [
        "numbers = list(map(int, input(\"Enter numbers separated by spaces: \").split()))\n",
        "unique_elements = []\n",
        "for num in numbers:\n",
        "    if numbers.count(num) == 1:\n",
        "        unique_elements.append(num)\n",
        "print(\"Elements that appear exactly once:\", unique_elements)"
      ],
      "metadata": {
        "colab": {
          "base_uri": "https://localhost:8080/"
        },
        "id": "9fRUT7yf806n",
        "outputId": "f1d83f6b-6e81-4a9a-bf79-4f32931872e8"
      },
      "execution_count": 12,
      "outputs": [
        {
          "output_type": "stream",
          "name": "stdout",
          "text": [
            "Enter numbers separated by spaces: 4 5 6 4 7 8 5\n",
            "Elements that appear exactly once: [6, 7, 8]\n"
          ]
        }
      ]
    },
    {
      "cell_type": "markdown",
      "source": [
        "**DAY 5 HOMEWORK (Tuples)**"
      ],
      "metadata": {
        "id": "Jh_wgjtq9WIu"
      }
    },
    {
      "cell_type": "markdown",
      "source": [
        "Write a program to take 5 numbers from the user and store them in a tuple, then print the\n",
        "maximum and minimum."
      ],
      "metadata": {
        "id": "N5dOFLPd9eXP"
      }
    },
    {
      "cell_type": "code",
      "source": [
        "numbers = tuple(map(int, input(\"Enter 5 numbers separated by spaces: \").split()))\n",
        "if len(numbers) != 5:\n",
        "    print(\"Please enter exactly 5 numbers!\")\n",
        "else:\n",
        "    maximum = max(numbers)\n",
        "    minimum = min(numbers)\n",
        "    print(\"Numbers in tuple:\", numbers)\n",
        "    print(\"Maximum number:\", maximum)\n",
        "    print(\"Minimum number:\", minimum)"
      ],
      "metadata": {
        "colab": {
          "base_uri": "https://localhost:8080/"
        },
        "id": "sVtZCmnK9dfe",
        "outputId": "cfb4cf12-37e5-464b-a460-111a3b6213ef"
      },
      "execution_count": 13,
      "outputs": [
        {
          "output_type": "stream",
          "name": "stdout",
          "text": [
            "Enter 5 numbers separated by spaces: 10 25 7 40 15\n",
            "Numbers in tuple: (10, 25, 7, 40, 15)\n",
            "Maximum number: 40\n",
            "Minimum number: 7\n"
          ]
        }
      ]
    },
    {
      "cell_type": "markdown",
      "source": [
        "Given a tuple of integers, write a program to count how many elements are divisible by\n",
        "3."
      ],
      "metadata": {
        "id": "CDhrv4Ki-Uxk"
      }
    },
    {
      "cell_type": "code",
      "source": [
        "numbers = tuple(map(int, input(\"Enter numbers separated by spaces: \").split()))\n",
        "count = 0\n",
        "for num in numbers:\n",
        "    if num % 3 == 0:\n",
        "        count += 1\n",
        "print(\"Tuple:\", numbers)\n",
        "print(\"Count of elements divisible by 3:\", count)"
      ],
      "metadata": {
        "colab": {
          "base_uri": "https://localhost:8080/"
        },
        "id": "xFmyMSB0-WC4",
        "outputId": "bd2317b8-271e-4824-feb0-0ec2c282fcee"
      },
      "execution_count": 14,
      "outputs": [
        {
          "output_type": "stream",
          "name": "stdout",
          "text": [
            "Enter numbers separated by spaces: 3 5 9 12 7 18\n",
            "Tuple: (3, 5, 9, 12, 7, 18)\n",
            "Count of elements divisible by 3: 4\n"
          ]
        }
      ]
    },
    {
      "cell_type": "markdown",
      "source": [
        "Write a program to reverse the contents of a tuple without using reversed()."
      ],
      "metadata": {
        "id": "JbGUAg1B-yn8"
      }
    },
    {
      "cell_type": "code",
      "source": [
        "numbers = tuple(map(int, input(\"Enter numbers separated by spaces: \").split()))\n",
        "reversed_tuple = numbers[::-1]\n",
        "print(\"Original tuple:\", numbers)\n",
        "print(\"Reversed tuple:\", reversed_tuple)"
      ],
      "metadata": {
        "colab": {
          "base_uri": "https://localhost:8080/"
        },
        "id": "kGS6wkya-0Rs",
        "outputId": "17eb895b-dafa-4914-8bc8-c70f7fd8aede"
      },
      "execution_count": 15,
      "outputs": [
        {
          "output_type": "stream",
          "name": "stdout",
          "text": [
            "Enter numbers separated by spaces: 10 20 30 40 50\n",
            "Original tuple: (10, 20, 30, 40, 50)\n",
            "Reversed tuple: (50, 40, 30, 20, 10)\n"
          ]
        }
      ]
    },
    {
      "cell_type": "markdown",
      "source": [
        "**DAY 6 HOMEWORK (Sets)**"
      ],
      "metadata": {
        "id": "UEG1l1nv_Jkj"
      }
    },
    {
      "cell_type": "markdown",
      "source": [
        "Write a program to take two lists from the user and print the common elements using\n",
        "sets."
      ],
      "metadata": {
        "id": "fJvCJ6mJ_P8Y"
      }
    },
    {
      "cell_type": "code",
      "source": [
        "list1 = list(map(int, input(\"Enter first list of numbers (space-separated): \").split()))\n",
        "list2 = list(map(int, input(\"Enter second list of numbers (space-separated): \").split()))\n",
        "set1 = set(list1)\n",
        "set2 = set(list2)\n",
        "common = set1 & set2\n",
        "print(\"List 1:\", list1)\n",
        "print(\"List 2:\", list2)\n",
        "print(\"Common elements:\", list(common))"
      ],
      "metadata": {
        "colab": {
          "base_uri": "https://localhost:8080/"
        },
        "id": "FFTUxE3C_Tnd",
        "outputId": "eb5e4a56-1eb9-46cb-c079-6d5823a31255"
      },
      "execution_count": 16,
      "outputs": [
        {
          "output_type": "stream",
          "name": "stdout",
          "text": [
            "Enter first list of numbers (space-separated): 1 2 3 4 5\n",
            "Enter second list of numbers (space-separated): 3 4 5 6 7\n",
            "List 1: [1, 2, 3, 4, 5]\n",
            "List 2: [3, 4, 5, 6, 7]\n",
            "Common elements: [3, 4, 5]\n"
          ]
        }
      ]
    },
    {
      "cell_type": "markdown",
      "source": [
        "Write a program to check if two sets are disjoint or not."
      ],
      "metadata": {
        "id": "Yaa0j3spAcmb"
      }
    },
    {
      "cell_type": "code",
      "source": [
        "set1 = set(map(int, input(\"Enter elements of first set (space-separated): \").split()))\n",
        "set2 = set(map(int, input(\"Enter elements of second set (space-separated): \").split()))\n",
        "if set1.isdisjoint(set2):\n",
        "    print(\"The sets are disjoint (no common elements).\")\n",
        "else:\n",
        "    print(\"The sets are NOT disjoint (they have common elements).\")"
      ],
      "metadata": {
        "colab": {
          "base_uri": "https://localhost:8080/"
        },
        "id": "zg4nUg3vAdpc",
        "outputId": "07798d38-acd3-4f06-9890-be33cf56a2a7"
      },
      "execution_count": 17,
      "outputs": [
        {
          "output_type": "stream",
          "name": "stdout",
          "text": [
            "Enter elements of first set (space-separated): 1 2 3\n",
            "Enter elements of second set (space-separated): 4 5 6\n",
            "The sets are disjoint (no common elements).\n"
          ]
        }
      ]
    },
    {
      "cell_type": "markdown",
      "source": [
        "Write a program to find all unique vowels present in a given string using set."
      ],
      "metadata": {
        "id": "3fezlsxuA6AY"
      }
    },
    {
      "cell_type": "code",
      "source": [
        "text = input(\"Enter a string: \").lower()\n",
        "vowels = set(\"aeiou\")\n",
        "unique_vowels = set(text) & vowels\n",
        "print(\"Unique vowels present:\", unique_vowels)"
      ],
      "metadata": {
        "colab": {
          "base_uri": "https://localhost:8080/"
        },
        "id": "oEg7GROuA6-R",
        "outputId": "725c1a68-0fc1-46fc-b987-aa7b3f172358"
      },
      "execution_count": 18,
      "outputs": [
        {
          "output_type": "stream",
          "name": "stdout",
          "text": [
            "Enter a string: Programming is Awesome\n",
            "Unique vowels present: {'e', 'i', 'o', 'a'}\n"
          ]
        }
      ]
    },
    {
      "cell_type": "markdown",
      "source": [
        "**DAY 7 HOMEWORK (Dictionaries)**"
      ],
      "metadata": {
        "id": "D5WUJ4dzBcFO"
      }
    },
    {
      "cell_type": "markdown",
      "source": [
        "Write a program that takes a sentence and creates a dictionary with word counts."
      ],
      "metadata": {
        "id": "-83hQsC1BueL"
      }
    },
    {
      "cell_type": "code",
      "source": [
        "sentence = input(\"Enter a sentence: \")\n",
        "words = sentence.split()\n",
        "word_count = {}\n",
        "for word in words:\n",
        "    word = word.lower()\n",
        "    if word in word_count:\n",
        "        word_count[word] += 1\n",
        "    else:\n",
        "        word_count[word] = 1\n",
        "print(\"Word counts:\", word_count)"
      ],
      "metadata": {
        "colab": {
          "base_uri": "https://localhost:8080/"
        },
        "id": "k1dpy_boBs09",
        "outputId": "1606ecd5-a3bc-48e7-82ec-1d2b01d63e56"
      },
      "execution_count": 19,
      "outputs": [
        {
          "output_type": "stream",
          "name": "stdout",
          "text": [
            "Enter a sentence: This is a test this is fun\n",
            "Word counts: {'this': 2, 'is': 2, 'a': 1, 'test': 1, 'fun': 1}\n"
          ]
        }
      ]
    },
    {
      "cell_type": "markdown",
      "source": [
        "Write a program to map roll numbers to names using two lists and form a dictionary."
      ],
      "metadata": {
        "id": "IPJjEA36Cebr"
      }
    },
    {
      "cell_type": "code",
      "source": [
        "roll_numbers = list(map(int, input(\"Enter roll numbers (space-separated): \").split()))\n",
        "names = input(\"Enter names (space-separated): \").split()\n",
        "student_dict = dict(zip(roll_numbers, names))\n",
        "print(\"Roll Number to Name mapping:\", student_dict)"
      ],
      "metadata": {
        "colab": {
          "base_uri": "https://localhost:8080/"
        },
        "id": "stTRRY-9CfnN",
        "outputId": "7dd76855-6041-40da-c950-8d9fc7a94c85"
      },
      "execution_count": 20,
      "outputs": [
        {
          "output_type": "stream",
          "name": "stdout",
          "text": [
            "Enter roll numbers (space-separated): 101 102 103\n",
            "Enter names (space-separated): Rajesh Priya Amit\n",
            "Roll Number to Name mapping: {101: 'Rajesh', 102: 'Priya', 103: 'Amit'}\n"
          ]
        }
      ]
    },
    {
      "cell_type": "markdown",
      "source": [
        "Write a program that takes a dictionary of students and their marks, and prints the\n",
        "name(s) of the student(s) with the highest marks."
      ],
      "metadata": {
        "id": "x9KFPBPwDCPR"
      }
    },
    {
      "cell_type": "code",
      "source": [
        "students = {\n",
        "    \"Rajesh\": 85,\n",
        "    \"Priya\": 92,\n",
        "    \"Amit\": 92,\n",
        "    \"Neha\": 78\n",
        "}\n",
        "highest_marks = max(students.values())\n",
        "toppers = [name for name, marks in students.items() if marks == highest_marks]\n",
        "print(\"Highest Marks:\", highest_marks)\n",
        "print(\"Topper(s):\", toppers)"
      ],
      "metadata": {
        "colab": {
          "base_uri": "https://localhost:8080/"
        },
        "id": "RlpcqggFDEDx",
        "outputId": "be652394-2317-4672-c14e-9d40dc33e054"
      },
      "execution_count": 21,
      "outputs": [
        {
          "output_type": "stream",
          "name": "stdout",
          "text": [
            "Highest Marks: 92\n",
            "Topper(s): ['Priya', 'Amit']\n"
          ]
        }
      ]
    },
    {
      "cell_type": "markdown",
      "source": [
        "**DAY 8 HOMEWORK (Mixed Data Structures)**"
      ],
      "metadata": {
        "id": "f4QE0OQ_DeX2"
      }
    },
    {
      "cell_type": "markdown",
      "source": [
        "Write a program that converts a list of tuples into a dictionary.\n",
        "Example: [('a', 1), ('b', 2)] → {'a': 1, 'b': 2}"
      ],
      "metadata": {
        "id": "BhOfUks8Dlbc"
      }
    },
    {
      "cell_type": "code",
      "source": [
        "tuple_list = [('a', 1), ('b', 2), ('c', 3)]\n",
        "result = dict(tuple_list)\n",
        "print(\"List of tuples:\", tuple_list)\n",
        "print(\"Converted dictionary:\", result)"
      ],
      "metadata": {
        "colab": {
          "base_uri": "https://localhost:8080/"
        },
        "id": "S_SM4tEnDofT",
        "outputId": "6a451a08-956c-4ead-a84b-3033a7ecbe6d"
      },
      "execution_count": 22,
      "outputs": [
        {
          "output_type": "stream",
          "name": "stdout",
          "text": [
            "List of tuples: [('a', 1), ('b', 2), ('c', 3)]\n",
            "Converted dictionary: {'a': 1, 'b': 2, 'c': 3}\n"
          ]
        }
      ]
    },
    {
      "cell_type": "markdown",
      "source": [
        "Given a dictionary with values as lists, write a program to flatten all values into a single\n",
        "list."
      ],
      "metadata": {
        "id": "SF8kekklD_9Y"
      }
    },
    {
      "cell_type": "code",
      "source": [
        "data = {\n",
        "    \"a\": [1, 2, 3],\n",
        "    \"b\": [4, 5],\n",
        "    \"c\": [6, 7, 8]\n",
        "}\n",
        "flattened = []\n",
        "for value_list in data.values():\n",
        "    flattened.extend(value_list)\n",
        "print(\"Original dictionary:\", data)\n",
        "print(\"Flattened list:\", flattened)"
      ],
      "metadata": {
        "colab": {
          "base_uri": "https://localhost:8080/"
        },
        "id": "Z7EEwIr_ECnz",
        "outputId": "c159ac26-2c01-484a-edbf-59768a0f283c"
      },
      "execution_count": 23,
      "outputs": [
        {
          "output_type": "stream",
          "name": "stdout",
          "text": [
            "Original dictionary: {'a': [1, 2, 3], 'b': [4, 5], 'c': [6, 7, 8]}\n",
            "Flattened list: [1, 2, 3, 4, 5, 6, 7, 8]\n"
          ]
        }
      ]
    },
    {
      "cell_type": "markdown",
      "source": [
        "Write a program that takes a list with duplicate elements and returns a dictionary with\n",
        "elements as keys and their frequency as values."
      ],
      "metadata": {
        "id": "bUpbHgghEYDx"
      }
    },
    {
      "cell_type": "code",
      "source": [
        "numbers = list(map(int, input(\"Enter numbers separated by spaces: \").split()))\n",
        "freq_dict = {}\n",
        "for num in numbers:\n",
        "    if num in freq_dict:\n",
        "        freq_dict[num] += 1\n",
        "    else:\n",
        "        freq_dict[num] = 1\n",
        "print(\"Original list:\", numbers)\n",
        "print(\"Frequency dictionary:\", freq_dict)"
      ],
      "metadata": {
        "colab": {
          "base_uri": "https://localhost:8080/"
        },
        "id": "BUV83XHyEZlW",
        "outputId": "d4d0b0f2-b431-47f7-9057-f7274b10885d"
      },
      "execution_count": 24,
      "outputs": [
        {
          "output_type": "stream",
          "name": "stdout",
          "text": [
            "Enter numbers separated by spaces: 4 5 6 4 7 8 5 4\n",
            "Original list: [4, 5, 6, 4, 7, 8, 5, 4]\n",
            "Frequency dictionary: {4: 3, 5: 2, 6: 1, 7: 1, 8: 1}\n"
          ]
        }
      ]
    }
  ]
}